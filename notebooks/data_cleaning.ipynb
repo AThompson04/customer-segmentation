{
 "cells": [
  {
   "cell_type": "markdown",
   "id": "d787eb1b-1c65-43a6-b4a8-3b2cfad401c5",
   "metadata": {},
   "source": [
    "## Data Cleaning"
   ]
  },
  {
   "cell_type": "markdown",
   "id": "551c854d-3530-4e63-92f9-860d0686bd93",
   "metadata": {},
   "source": [
    "### Importing Libraries"
   ]
  },
  {
   "cell_type": "code",
   "execution_count": 5,
   "id": "bab96c74-727c-4f52-969a-a5f16127991b",
   "metadata": {},
   "outputs": [],
   "source": [
    "import warnings\n",
    "warnings.simplefilter(action='ignore', category=FutureWarning)"
   ]
  },
  {
   "cell_type": "code",
   "execution_count": 147,
   "id": "77844e5b-6069-4f3a-8ecf-718f065e3b49",
   "metadata": {},
   "outputs": [],
   "source": [
    "import pandas as pd\n",
    "import seaborn as sns\n",
    "import numpy as np\n",
    "import matplotlib.pylab as plt\n",
    "from sklearn.preprocessing import MinMaxScaler \n",
    "import joblib"
   ]
  },
  {
   "cell_type": "markdown",
   "id": "835b39ba-bf12-415f-b245-0b12235a5b15",
   "metadata": {},
   "source": [
    "### Importing Data"
   ]
  },
  {
   "cell_type": "code",
   "execution_count": 101,
   "id": "10560bab-2081-484f-a68b-45f503a862e4",
   "metadata": {},
   "outputs": [],
   "source": [
    "df = pd.read_csv('../data/customer_segmentation_data.csv')"
   ]
  },
  {
   "cell_type": "markdown",
   "id": "011a459f-4779-450f-9101-2d8f58db3b12",
   "metadata": {},
   "source": [
    "### Data Cleaning"
   ]
  },
  {
   "cell_type": "markdown",
   "id": "53b5871d-c306-42e8-aa2f-6e49bc3149e2",
   "metadata": {},
   "source": [
    "#### Drop ID Column"
   ]
  },
  {
   "cell_type": "code",
   "execution_count": 103,
   "id": "7dabceac-1fa2-4dac-9bbe-46a9e9ec6182",
   "metadata": {},
   "outputs": [],
   "source": [
    "df.drop(['id'], inplace=True, axis=1)"
   ]
  },
  {
   "cell_type": "markdown",
   "id": "d53044a8-f32c-4fdc-afce-912dc1340999",
   "metadata": {},
   "source": [
    "#### Missing Data"
   ]
  },
  {
   "cell_type": "code",
   "execution_count": 105,
   "id": "e5a2469a-bccd-4c29-9a76-d4088c20fb49",
   "metadata": {},
   "outputs": [
    {
     "data": {
      "text/plain": [
       "age                     0\n",
       "gender                  0\n",
       "income                  0\n",
       "spending_score          0\n",
       "membership_years        0\n",
       "purchase_frequency      0\n",
       "preferred_category      0\n",
       "last_purchase_amount    0\n",
       "dtype: int64"
      ]
     },
     "execution_count": 105,
     "metadata": {},
     "output_type": "execute_result"
    }
   ],
   "source": [
    "df.isnull().sum()"
   ]
  },
  {
   "cell_type": "code",
   "execution_count": 107,
   "id": "b0d34838-62f2-46d2-ac84-5e8631381e7b",
   "metadata": {},
   "outputs": [],
   "source": [
    "# As discovered in the exploratory data analysis there are no missing data."
   ]
  },
  {
   "cell_type": "markdown",
   "id": "9c8353f0-e4a4-4f3f-8902-5dd1a1c85764",
   "metadata": {},
   "source": [
    "#### Duplicated Data"
   ]
  },
  {
   "cell_type": "code",
   "execution_count": 110,
   "id": "e5e621a3-685a-4e31-a78c-250a0b2882a8",
   "metadata": {},
   "outputs": [
    {
     "data": {
      "text/plain": [
       "0"
      ]
     },
     "execution_count": 110,
     "metadata": {},
     "output_type": "execute_result"
    }
   ],
   "source": [
    "df.duplicated().sum()"
   ]
  },
  {
   "cell_type": "code",
   "execution_count": 112,
   "id": "351256f0-32ec-46ac-88b3-da28d4aa5d9a",
   "metadata": {},
   "outputs": [],
   "source": [
    "# There are no duplicated customer records."
   ]
  },
  {
   "cell_type": "markdown",
   "id": "8653d4f9-369e-4e98-b60a-1755db832d4e",
   "metadata": {},
   "source": [
    "#### Scaling Data"
   ]
  },
  {
   "cell_type": "code",
   "execution_count": 115,
   "id": "f77dc617-6e45-4ba9-b9ab-8e129692e56c",
   "metadata": {},
   "outputs": [],
   "source": [
    "scaler = MinMaxScaler() \n",
    "\n",
    "df[['Scaledage','Scaledincome','Scaledspending_score','Scaledpurchase_frequency','Scaledlast_purchase_amount']] = scaler.fit_transform(df[['age','income','spending_score','purchase_frequency','last_purchase_amount']]) "
   ]
  },
  {
   "cell_type": "code",
   "execution_count": 117,
   "id": "eb0c496e-fa69-40d4-a575-41d973893f7b",
   "metadata": {},
   "outputs": [],
   "source": [
    "df.drop(['age','income','spending_score','purchase_frequency','last_purchase_amount'], inplace=True, axis=1)"
   ]
  },
  {
   "cell_type": "code",
   "execution_count": 119,
   "id": "ddb35fda-37be-4549-9240-bff38c2f1def",
   "metadata": {},
   "outputs": [
    {
     "data": {
      "text/html": [
       "<div>\n",
       "<style scoped>\n",
       "    .dataframe tbody tr th:only-of-type {\n",
       "        vertical-align: middle;\n",
       "    }\n",
       "\n",
       "    .dataframe tbody tr th {\n",
       "        vertical-align: top;\n",
       "    }\n",
       "\n",
       "    .dataframe thead th {\n",
       "        text-align: right;\n",
       "    }\n",
       "</style>\n",
       "<table border=\"1\" class=\"dataframe\">\n",
       "  <thead>\n",
       "    <tr style=\"text-align: right;\">\n",
       "      <th></th>\n",
       "      <th>gender</th>\n",
       "      <th>membership_years</th>\n",
       "      <th>preferred_category</th>\n",
       "      <th>Scaledage</th>\n",
       "      <th>Scaledincome</th>\n",
       "      <th>Scaledspending_score</th>\n",
       "      <th>Scaledpurchase_frequency</th>\n",
       "      <th>Scaledlast_purchase_amount</th>\n",
       "    </tr>\n",
       "  </thead>\n",
       "  <tbody>\n",
       "    <tr>\n",
       "      <th>0</th>\n",
       "      <td>Female</td>\n",
       "      <td>3</td>\n",
       "      <td>Groceries</td>\n",
       "      <td>0.392157</td>\n",
       "      <td>0.577966</td>\n",
       "      <td>0.898990</td>\n",
       "      <td>0.469388</td>\n",
       "      <td>0.104241</td>\n",
       "    </tr>\n",
       "    <tr>\n",
       "      <th>1</th>\n",
       "      <td>Female</td>\n",
       "      <td>2</td>\n",
       "      <td>Sports</td>\n",
       "      <td>0.058824</td>\n",
       "      <td>0.407172</td>\n",
       "      <td>0.595960</td>\n",
       "      <td>0.836735</td>\n",
       "      <td>0.031870</td>\n",
       "    </tr>\n",
       "    <tr>\n",
       "      <th>2</th>\n",
       "      <td>Female</td>\n",
       "      <td>2</td>\n",
       "      <td>Clothing</td>\n",
       "      <td>0.823529</td>\n",
       "      <td>0.804950</td>\n",
       "      <td>0.292929</td>\n",
       "      <td>0.551020</td>\n",
       "      <td>0.418420</td>\n",
       "    </tr>\n",
       "    <tr>\n",
       "      <th>3</th>\n",
       "      <td>Other</td>\n",
       "      <td>9</td>\n",
       "      <td>Home &amp; Garden</td>\n",
       "      <td>0.431373</td>\n",
       "      <td>0.142495</td>\n",
       "      <td>0.737374</td>\n",
       "      <td>0.081633</td>\n",
       "      <td>0.992106</td>\n",
       "    </tr>\n",
       "    <tr>\n",
       "      <th>4</th>\n",
       "      <td>Female</td>\n",
       "      <td>3</td>\n",
       "      <td>Electronics</td>\n",
       "      <td>0.921569</td>\n",
       "      <td>0.922047</td>\n",
       "      <td>0.202020</td>\n",
       "      <td>0.489796</td>\n",
       "      <td>0.340308</td>\n",
       "    </tr>\n",
       "  </tbody>\n",
       "</table>\n",
       "</div>"
      ],
      "text/plain": [
       "   gender  membership_years preferred_category  Scaledage  Scaledincome  \\\n",
       "0  Female                 3          Groceries   0.392157      0.577966   \n",
       "1  Female                 2             Sports   0.058824      0.407172   \n",
       "2  Female                 2           Clothing   0.823529      0.804950   \n",
       "3   Other                 9      Home & Garden   0.431373      0.142495   \n",
       "4  Female                 3        Electronics   0.921569      0.922047   \n",
       "\n",
       "   Scaledspending_score  Scaledpurchase_frequency  Scaledlast_purchase_amount  \n",
       "0              0.898990                  0.469388                    0.104241  \n",
       "1              0.595960                  0.836735                    0.031870  \n",
       "2              0.292929                  0.551020                    0.418420  \n",
       "3              0.737374                  0.081633                    0.992106  \n",
       "4              0.202020                  0.489796                    0.340308  "
      ]
     },
     "execution_count": 119,
     "metadata": {},
     "output_type": "execute_result"
    }
   ],
   "source": [
    "df.head()"
   ]
  },
  {
   "cell_type": "code",
   "execution_count": 145,
   "id": "3c70a659-7a65-4831-b827-88fec846384d",
   "metadata": {},
   "outputs": [
    {
     "data": {
      "text/plain": [
       "['../assets/scaler.gz']"
      ]
     },
     "execution_count": 145,
     "metadata": {},
     "output_type": "execute_result"
    }
   ],
   "source": [
    "joblib.dump(scaler, '../assets/scaler.gz')"
   ]
  },
  {
   "cell_type": "markdown",
   "id": "b47336d2-2c18-4f17-b87e-24b22c0eed48",
   "metadata": {},
   "source": [
    "#### Converting Categorical Variables"
   ]
  },
  {
   "cell_type": "code",
   "execution_count": 121,
   "id": "cb04ac28-a4e9-4878-840c-320519661e52",
   "metadata": {},
   "outputs": [],
   "source": [
    "def cat_var(data_frame, column):\n",
    "    sub_dummies = pd.get_dummies(data=data_frame[column],drop_first=True)\n",
    "    data_frame = pd.concat([data_frame.drop(column,axis=1),sub_dummies],axis=1)\n",
    "    return data_frame"
   ]
  },
  {
   "cell_type": "code",
   "execution_count": 123,
   "id": "a58f0af5-cb7d-4016-9c43-e0086adaab98",
   "metadata": {},
   "outputs": [],
   "source": [
    "df = cat_var(df, ['gender','preferred_category'])"
   ]
  },
  {
   "cell_type": "code",
   "execution_count": 125,
   "id": "af6766c0-dc77-4722-a12a-18a73998ceea",
   "metadata": {},
   "outputs": [
    {
     "data": {
      "text/html": [
       "<div>\n",
       "<style scoped>\n",
       "    .dataframe tbody tr th:only-of-type {\n",
       "        vertical-align: middle;\n",
       "    }\n",
       "\n",
       "    .dataframe tbody tr th {\n",
       "        vertical-align: top;\n",
       "    }\n",
       "\n",
       "    .dataframe thead th {\n",
       "        text-align: right;\n",
       "    }\n",
       "</style>\n",
       "<table border=\"1\" class=\"dataframe\">\n",
       "  <thead>\n",
       "    <tr style=\"text-align: right;\">\n",
       "      <th></th>\n",
       "      <th>membership_years</th>\n",
       "      <th>Scaledage</th>\n",
       "      <th>Scaledincome</th>\n",
       "      <th>Scaledspending_score</th>\n",
       "      <th>Scaledpurchase_frequency</th>\n",
       "      <th>Scaledlast_purchase_amount</th>\n",
       "      <th>gender_Male</th>\n",
       "      <th>gender_Other</th>\n",
       "      <th>preferred_category_Electronics</th>\n",
       "      <th>preferred_category_Groceries</th>\n",
       "      <th>preferred_category_Home &amp; Garden</th>\n",
       "      <th>preferred_category_Sports</th>\n",
       "    </tr>\n",
       "  </thead>\n",
       "  <tbody>\n",
       "    <tr>\n",
       "      <th>0</th>\n",
       "      <td>3</td>\n",
       "      <td>0.392157</td>\n",
       "      <td>0.577966</td>\n",
       "      <td>0.898990</td>\n",
       "      <td>0.469388</td>\n",
       "      <td>0.104241</td>\n",
       "      <td>False</td>\n",
       "      <td>False</td>\n",
       "      <td>False</td>\n",
       "      <td>True</td>\n",
       "      <td>False</td>\n",
       "      <td>False</td>\n",
       "    </tr>\n",
       "    <tr>\n",
       "      <th>1</th>\n",
       "      <td>2</td>\n",
       "      <td>0.058824</td>\n",
       "      <td>0.407172</td>\n",
       "      <td>0.595960</td>\n",
       "      <td>0.836735</td>\n",
       "      <td>0.031870</td>\n",
       "      <td>False</td>\n",
       "      <td>False</td>\n",
       "      <td>False</td>\n",
       "      <td>False</td>\n",
       "      <td>False</td>\n",
       "      <td>True</td>\n",
       "    </tr>\n",
       "    <tr>\n",
       "      <th>2</th>\n",
       "      <td>2</td>\n",
       "      <td>0.823529</td>\n",
       "      <td>0.804950</td>\n",
       "      <td>0.292929</td>\n",
       "      <td>0.551020</td>\n",
       "      <td>0.418420</td>\n",
       "      <td>False</td>\n",
       "      <td>False</td>\n",
       "      <td>False</td>\n",
       "      <td>False</td>\n",
       "      <td>False</td>\n",
       "      <td>False</td>\n",
       "    </tr>\n",
       "    <tr>\n",
       "      <th>3</th>\n",
       "      <td>9</td>\n",
       "      <td>0.431373</td>\n",
       "      <td>0.142495</td>\n",
       "      <td>0.737374</td>\n",
       "      <td>0.081633</td>\n",
       "      <td>0.992106</td>\n",
       "      <td>False</td>\n",
       "      <td>True</td>\n",
       "      <td>False</td>\n",
       "      <td>False</td>\n",
       "      <td>True</td>\n",
       "      <td>False</td>\n",
       "    </tr>\n",
       "    <tr>\n",
       "      <th>4</th>\n",
       "      <td>3</td>\n",
       "      <td>0.921569</td>\n",
       "      <td>0.922047</td>\n",
       "      <td>0.202020</td>\n",
       "      <td>0.489796</td>\n",
       "      <td>0.340308</td>\n",
       "      <td>False</td>\n",
       "      <td>False</td>\n",
       "      <td>True</td>\n",
       "      <td>False</td>\n",
       "      <td>False</td>\n",
       "      <td>False</td>\n",
       "    </tr>\n",
       "  </tbody>\n",
       "</table>\n",
       "</div>"
      ],
      "text/plain": [
       "   membership_years  Scaledage  Scaledincome  Scaledspending_score  \\\n",
       "0                 3   0.392157      0.577966              0.898990   \n",
       "1                 2   0.058824      0.407172              0.595960   \n",
       "2                 2   0.823529      0.804950              0.292929   \n",
       "3                 9   0.431373      0.142495              0.737374   \n",
       "4                 3   0.921569      0.922047              0.202020   \n",
       "\n",
       "   Scaledpurchase_frequency  Scaledlast_purchase_amount  gender_Male  \\\n",
       "0                  0.469388                    0.104241        False   \n",
       "1                  0.836735                    0.031870        False   \n",
       "2                  0.551020                    0.418420        False   \n",
       "3                  0.081633                    0.992106        False   \n",
       "4                  0.489796                    0.340308        False   \n",
       "\n",
       "   gender_Other  preferred_category_Electronics  preferred_category_Groceries  \\\n",
       "0         False                           False                          True   \n",
       "1         False                           False                         False   \n",
       "2         False                           False                         False   \n",
       "3          True                           False                         False   \n",
       "4         False                            True                         False   \n",
       "\n",
       "   preferred_category_Home & Garden  preferred_category_Sports  \n",
       "0                             False                      False  \n",
       "1                             False                       True  \n",
       "2                             False                      False  \n",
       "3                              True                      False  \n",
       "4                             False                      False  "
      ]
     },
     "execution_count": 125,
     "metadata": {},
     "output_type": "execute_result"
    }
   ],
   "source": [
    "df.head()"
   ]
  },
  {
   "cell_type": "code",
   "execution_count": 131,
   "id": "98efaad3-faf9-40ef-a38f-a9dac6eaa48e",
   "metadata": {},
   "outputs": [],
   "source": [
    "sub_dummies = pd.get_dummies(data=df['membership_years'],drop_first=True)"
   ]
  },
  {
   "cell_type": "code",
   "execution_count": 135,
   "id": "fe169dc2-4669-4a1e-80a1-97e847a6c292",
   "metadata": {},
   "outputs": [],
   "source": [
    "df = pd.concat([df.drop('membership_years',axis=1),sub_dummies],axis=1)"
   ]
  },
  {
   "cell_type": "code",
   "execution_count": 137,
   "id": "13864a78-ea30-43a9-97f1-3aa3ad126576",
   "metadata": {},
   "outputs": [
    {
     "data": {
      "text/html": [
       "<div>\n",
       "<style scoped>\n",
       "    .dataframe tbody tr th:only-of-type {\n",
       "        vertical-align: middle;\n",
       "    }\n",
       "\n",
       "    .dataframe tbody tr th {\n",
       "        vertical-align: top;\n",
       "    }\n",
       "\n",
       "    .dataframe thead th {\n",
       "        text-align: right;\n",
       "    }\n",
       "</style>\n",
       "<table border=\"1\" class=\"dataframe\">\n",
       "  <thead>\n",
       "    <tr style=\"text-align: right;\">\n",
       "      <th></th>\n",
       "      <th>Scaledage</th>\n",
       "      <th>Scaledincome</th>\n",
       "      <th>Scaledspending_score</th>\n",
       "      <th>Scaledpurchase_frequency</th>\n",
       "      <th>Scaledlast_purchase_amount</th>\n",
       "      <th>gender_Male</th>\n",
       "      <th>gender_Other</th>\n",
       "      <th>preferred_category_Electronics</th>\n",
       "      <th>preferred_category_Groceries</th>\n",
       "      <th>preferred_category_Home &amp; Garden</th>\n",
       "      <th>preferred_category_Sports</th>\n",
       "      <th>2</th>\n",
       "      <th>3</th>\n",
       "      <th>4</th>\n",
       "      <th>5</th>\n",
       "      <th>6</th>\n",
       "      <th>7</th>\n",
       "      <th>8</th>\n",
       "      <th>9</th>\n",
       "      <th>10</th>\n",
       "    </tr>\n",
       "  </thead>\n",
       "  <tbody>\n",
       "    <tr>\n",
       "      <th>0</th>\n",
       "      <td>0.392157</td>\n",
       "      <td>0.577966</td>\n",
       "      <td>0.898990</td>\n",
       "      <td>0.469388</td>\n",
       "      <td>0.104241</td>\n",
       "      <td>False</td>\n",
       "      <td>False</td>\n",
       "      <td>False</td>\n",
       "      <td>True</td>\n",
       "      <td>False</td>\n",
       "      <td>False</td>\n",
       "      <td>False</td>\n",
       "      <td>True</td>\n",
       "      <td>False</td>\n",
       "      <td>False</td>\n",
       "      <td>False</td>\n",
       "      <td>False</td>\n",
       "      <td>False</td>\n",
       "      <td>False</td>\n",
       "      <td>False</td>\n",
       "    </tr>\n",
       "    <tr>\n",
       "      <th>1</th>\n",
       "      <td>0.058824</td>\n",
       "      <td>0.407172</td>\n",
       "      <td>0.595960</td>\n",
       "      <td>0.836735</td>\n",
       "      <td>0.031870</td>\n",
       "      <td>False</td>\n",
       "      <td>False</td>\n",
       "      <td>False</td>\n",
       "      <td>False</td>\n",
       "      <td>False</td>\n",
       "      <td>True</td>\n",
       "      <td>True</td>\n",
       "      <td>False</td>\n",
       "      <td>False</td>\n",
       "      <td>False</td>\n",
       "      <td>False</td>\n",
       "      <td>False</td>\n",
       "      <td>False</td>\n",
       "      <td>False</td>\n",
       "      <td>False</td>\n",
       "    </tr>\n",
       "    <tr>\n",
       "      <th>2</th>\n",
       "      <td>0.823529</td>\n",
       "      <td>0.804950</td>\n",
       "      <td>0.292929</td>\n",
       "      <td>0.551020</td>\n",
       "      <td>0.418420</td>\n",
       "      <td>False</td>\n",
       "      <td>False</td>\n",
       "      <td>False</td>\n",
       "      <td>False</td>\n",
       "      <td>False</td>\n",
       "      <td>False</td>\n",
       "      <td>True</td>\n",
       "      <td>False</td>\n",
       "      <td>False</td>\n",
       "      <td>False</td>\n",
       "      <td>False</td>\n",
       "      <td>False</td>\n",
       "      <td>False</td>\n",
       "      <td>False</td>\n",
       "      <td>False</td>\n",
       "    </tr>\n",
       "    <tr>\n",
       "      <th>3</th>\n",
       "      <td>0.431373</td>\n",
       "      <td>0.142495</td>\n",
       "      <td>0.737374</td>\n",
       "      <td>0.081633</td>\n",
       "      <td>0.992106</td>\n",
       "      <td>False</td>\n",
       "      <td>True</td>\n",
       "      <td>False</td>\n",
       "      <td>False</td>\n",
       "      <td>True</td>\n",
       "      <td>False</td>\n",
       "      <td>False</td>\n",
       "      <td>False</td>\n",
       "      <td>False</td>\n",
       "      <td>False</td>\n",
       "      <td>False</td>\n",
       "      <td>False</td>\n",
       "      <td>False</td>\n",
       "      <td>True</td>\n",
       "      <td>False</td>\n",
       "    </tr>\n",
       "    <tr>\n",
       "      <th>4</th>\n",
       "      <td>0.921569</td>\n",
       "      <td>0.922047</td>\n",
       "      <td>0.202020</td>\n",
       "      <td>0.489796</td>\n",
       "      <td>0.340308</td>\n",
       "      <td>False</td>\n",
       "      <td>False</td>\n",
       "      <td>True</td>\n",
       "      <td>False</td>\n",
       "      <td>False</td>\n",
       "      <td>False</td>\n",
       "      <td>False</td>\n",
       "      <td>True</td>\n",
       "      <td>False</td>\n",
       "      <td>False</td>\n",
       "      <td>False</td>\n",
       "      <td>False</td>\n",
       "      <td>False</td>\n",
       "      <td>False</td>\n",
       "      <td>False</td>\n",
       "    </tr>\n",
       "  </tbody>\n",
       "</table>\n",
       "</div>"
      ],
      "text/plain": [
       "   Scaledage  Scaledincome  Scaledspending_score  Scaledpurchase_frequency  \\\n",
       "0   0.392157      0.577966              0.898990                  0.469388   \n",
       "1   0.058824      0.407172              0.595960                  0.836735   \n",
       "2   0.823529      0.804950              0.292929                  0.551020   \n",
       "3   0.431373      0.142495              0.737374                  0.081633   \n",
       "4   0.921569      0.922047              0.202020                  0.489796   \n",
       "\n",
       "   Scaledlast_purchase_amount  gender_Male  gender_Other  \\\n",
       "0                    0.104241        False         False   \n",
       "1                    0.031870        False         False   \n",
       "2                    0.418420        False         False   \n",
       "3                    0.992106        False          True   \n",
       "4                    0.340308        False         False   \n",
       "\n",
       "   preferred_category_Electronics  preferred_category_Groceries  \\\n",
       "0                           False                          True   \n",
       "1                           False                         False   \n",
       "2                           False                         False   \n",
       "3                           False                         False   \n",
       "4                            True                         False   \n",
       "\n",
       "   preferred_category_Home & Garden  preferred_category_Sports      2      3  \\\n",
       "0                             False                      False  False   True   \n",
       "1                             False                       True   True  False   \n",
       "2                             False                      False   True  False   \n",
       "3                              True                      False  False  False   \n",
       "4                             False                      False  False   True   \n",
       "\n",
       "       4      5      6      7      8      9     10  \n",
       "0  False  False  False  False  False  False  False  \n",
       "1  False  False  False  False  False  False  False  \n",
       "2  False  False  False  False  False  False  False  \n",
       "3  False  False  False  False  False   True  False  \n",
       "4  False  False  False  False  False  False  False  "
      ]
     },
     "execution_count": 137,
     "metadata": {},
     "output_type": "execute_result"
    }
   ],
   "source": [
    "df.head()"
   ]
  },
  {
   "cell_type": "markdown",
   "id": "ddb64e4a-a373-42b7-a61d-55ef515b9123",
   "metadata": {},
   "source": [
    "### Saving Cleaned Data"
   ]
  },
  {
   "cell_type": "code",
   "execution_count": 139,
   "id": "bf2ea0a9-90e2-4f74-852d-e046139cfc75",
   "metadata": {},
   "outputs": [],
   "source": [
    "df.to_csv('../assets/cleaned_data.csv', index=False)"
   ]
  }
 ],
 "metadata": {
  "kernelspec": {
   "display_name": "Python 3 (ipykernel)",
   "language": "python",
   "name": "python3"
  },
  "language_info": {
   "codemirror_mode": {
    "name": "ipython",
    "version": 3
   },
   "file_extension": ".py",
   "mimetype": "text/x-python",
   "name": "python",
   "nbconvert_exporter": "python",
   "pygments_lexer": "ipython3",
   "version": "3.11.7"
  }
 },
 "nbformat": 4,
 "nbformat_minor": 5
}
