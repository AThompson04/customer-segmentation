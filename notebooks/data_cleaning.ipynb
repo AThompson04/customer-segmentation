{
 "cells": [
  {
   "cell_type": "markdown",
   "id": "d787eb1b-1c65-43a6-b4a8-3b2cfad401c5",
   "metadata": {},
   "source": [
    "## Data Cleaning"
   ]
  },
  {
   "cell_type": "markdown",
   "id": "551c854d-3530-4e63-92f9-860d0686bd93",
   "metadata": {},
   "source": [
    "### Importing Libraries"
   ]
  },
  {
   "cell_type": "code",
   "execution_count": 149,
   "id": "bab96c74-727c-4f52-969a-a5f16127991b",
   "metadata": {},
   "outputs": [],
   "source": [
    "import warnings\n",
    "warnings.simplefilter(action='ignore', category=FutureWarning)"
   ]
  },
  {
   "cell_type": "code",
   "execution_count": 151,
   "id": "77844e5b-6069-4f3a-8ecf-718f065e3b49",
   "metadata": {},
   "outputs": [],
   "source": [
    "import pandas as pd\n",
    "import seaborn as sns\n",
    "import numpy as np\n",
    "import matplotlib.pylab as plt\n",
    "from sklearn.preprocessing import StandardScaler\n",
    "import joblib"
   ]
  },
  {
   "cell_type": "markdown",
   "id": "835b39ba-bf12-415f-b245-0b12235a5b15",
   "metadata": {},
   "source": [
    "### Importing Data"
   ]
  },
  {
   "cell_type": "code",
   "execution_count": 190,
   "id": "10560bab-2081-484f-a68b-45f503a862e4",
   "metadata": {},
   "outputs": [],
   "source": [
    "df = pd.read_csv('../data/customer_segmentation_data.csv', index_col=0)"
   ]
  },
  {
   "cell_type": "markdown",
   "id": "011a459f-4779-450f-9101-2d8f58db3b12",
   "metadata": {},
   "source": [
    "### Data Cleaning"
   ]
  },
  {
   "cell_type": "markdown",
   "id": "d53044a8-f32c-4fdc-afce-912dc1340999",
   "metadata": {},
   "source": [
    "#### Missing Data"
   ]
  },
  {
   "cell_type": "code",
   "execution_count": 192,
   "id": "e5a2469a-bccd-4c29-9a76-d4088c20fb49",
   "metadata": {},
   "outputs": [
    {
     "data": {
      "text/plain": [
       "age                     0\n",
       "gender                  0\n",
       "income                  0\n",
       "spending_score          0\n",
       "membership_years        0\n",
       "purchase_frequency      0\n",
       "preferred_category      0\n",
       "last_purchase_amount    0\n",
       "dtype: int64"
      ]
     },
     "execution_count": 192,
     "metadata": {},
     "output_type": "execute_result"
    }
   ],
   "source": [
    "df.isnull().sum()"
   ]
  },
  {
   "cell_type": "code",
   "execution_count": 171,
   "id": "b0d34838-62f2-46d2-ac84-5e8631381e7b",
   "metadata": {},
   "outputs": [],
   "source": [
    "# As discovered in the exploratory data analysis there are no missing data."
   ]
  },
  {
   "cell_type": "markdown",
   "id": "9c8353f0-e4a4-4f3f-8902-5dd1a1c85764",
   "metadata": {},
   "source": [
    "#### Duplicated Data"
   ]
  },
  {
   "cell_type": "code",
   "execution_count": 194,
   "id": "e5e621a3-685a-4e31-a78c-250a0b2882a8",
   "metadata": {},
   "outputs": [
    {
     "data": {
      "text/plain": [
       "0"
      ]
     },
     "execution_count": 194,
     "metadata": {},
     "output_type": "execute_result"
    }
   ],
   "source": [
    "df.duplicated().sum()"
   ]
  },
  {
   "cell_type": "code",
   "execution_count": 175,
   "id": "351256f0-32ec-46ac-88b3-da28d4aa5d9a",
   "metadata": {},
   "outputs": [],
   "source": [
    "# There are no duplicated customer records."
   ]
  },
  {
   "cell_type": "markdown",
   "id": "8653d4f9-369e-4e98-b60a-1755db832d4e",
   "metadata": {},
   "source": [
    "#### Scaling Data"
   ]
  },
  {
   "cell_type": "code",
   "execution_count": 196,
   "id": "f77dc617-6e45-4ba9-b9ab-8e129692e56c",
   "metadata": {},
   "outputs": [],
   "source": [
    "scaler = StandardScaler() \n",
    "\n",
    "df[['Scaledage','Scaledincome','Scaledspending_score','Scaledpurchase_frequency','Scaledlast_purchase_amount','Scaledmembership_years']] = scaler.fit_transform(df[['age','income','spending_score','purchase_frequency','last_purchase_amount','membership_years']]) "
   ]
  },
  {
   "cell_type": "code",
   "execution_count": 198,
   "id": "eb0c496e-fa69-40d4-a575-41d973893f7b",
   "metadata": {},
   "outputs": [],
   "source": [
    "df.drop(['age','income','spending_score','purchase_frequency','last_purchase_amount','membership_years'], inplace=True, axis=1)"
   ]
  },
  {
   "cell_type": "code",
   "execution_count": 200,
   "id": "ddb35fda-37be-4549-9240-bff38c2f1def",
   "metadata": {},
   "outputs": [
    {
     "data": {
      "text/html": [
       "<div>\n",
       "<style scoped>\n",
       "    .dataframe tbody tr th:only-of-type {\n",
       "        vertical-align: middle;\n",
       "    }\n",
       "\n",
       "    .dataframe tbody tr th {\n",
       "        vertical-align: top;\n",
       "    }\n",
       "\n",
       "    .dataframe thead th {\n",
       "        text-align: right;\n",
       "    }\n",
       "</style>\n",
       "<table border=\"1\" class=\"dataframe\">\n",
       "  <thead>\n",
       "    <tr style=\"text-align: right;\">\n",
       "      <th></th>\n",
       "      <th>gender</th>\n",
       "      <th>preferred_category</th>\n",
       "      <th>Scaledage</th>\n",
       "      <th>Scaledincome</th>\n",
       "      <th>Scaledspending_score</th>\n",
       "      <th>Scaledpurchase_frequency</th>\n",
       "      <th>Scaledlast_purchase_amount</th>\n",
       "      <th>Scaledmembership_years</th>\n",
       "    </tr>\n",
       "    <tr>\n",
       "      <th>id</th>\n",
       "      <th></th>\n",
       "      <th></th>\n",
       "      <th></th>\n",
       "      <th></th>\n",
       "      <th></th>\n",
       "      <th></th>\n",
       "      <th></th>\n",
       "      <th></th>\n",
       "    </tr>\n",
       "  </thead>\n",
       "  <tbody>\n",
       "    <tr>\n",
       "      <th>1</th>\n",
       "      <td>Female</td>\n",
       "      <td>Groceries</td>\n",
       "      <td>-0.384644</td>\n",
       "      <td>0.316868</td>\n",
       "      <td>1.358468</td>\n",
       "      <td>-0.182348</td>\n",
       "      <td>-1.281540</td>\n",
       "      <td>-0.865010</td>\n",
       "    </tr>\n",
       "    <tr>\n",
       "      <th>2</th>\n",
       "      <td>Female</td>\n",
       "      <td>Sports</td>\n",
       "      <td>-1.515362</td>\n",
       "      <td>-0.282016</td>\n",
       "      <td>0.321865</td>\n",
       "      <td>1.082005</td>\n",
       "      <td>-1.523763</td>\n",
       "      <td>-1.215358</td>\n",
       "    </tr>\n",
       "    <tr>\n",
       "      <th>3</th>\n",
       "      <td>Female</td>\n",
       "      <td>Clothing</td>\n",
       "      <td>1.078639</td>\n",
       "      <td>1.112778</td>\n",
       "      <td>-0.714738</td>\n",
       "      <td>0.098620</td>\n",
       "      <td>-0.230005</td>\n",
       "      <td>-1.215358</td>\n",
       "    </tr>\n",
       "    <tr>\n",
       "      <th>4</th>\n",
       "      <td>Other</td>\n",
       "      <td>Home &amp; Garden</td>\n",
       "      <td>-0.251618</td>\n",
       "      <td>-1.210096</td>\n",
       "      <td>0.805613</td>\n",
       "      <td>-1.516943</td>\n",
       "      <td>1.690080</td>\n",
       "      <td>1.237080</td>\n",
       "    </tr>\n",
       "    <tr>\n",
       "      <th>5</th>\n",
       "      <td>Female</td>\n",
       "      <td>Electronics</td>\n",
       "      <td>1.411203</td>\n",
       "      <td>1.523374</td>\n",
       "      <td>-1.025718</td>\n",
       "      <td>-0.112106</td>\n",
       "      <td>-0.491443</td>\n",
       "      <td>-0.865010</td>\n",
       "    </tr>\n",
       "  </tbody>\n",
       "</table>\n",
       "</div>"
      ],
      "text/plain": [
       "    gender preferred_category  Scaledage  Scaledincome  Scaledspending_score  \\\n",
       "id                                                                             \n",
       "1   Female          Groceries  -0.384644      0.316868              1.358468   \n",
       "2   Female             Sports  -1.515362     -0.282016              0.321865   \n",
       "3   Female           Clothing   1.078639      1.112778             -0.714738   \n",
       "4    Other      Home & Garden  -0.251618     -1.210096              0.805613   \n",
       "5   Female        Electronics   1.411203      1.523374             -1.025718   \n",
       "\n",
       "    Scaledpurchase_frequency  Scaledlast_purchase_amount  \\\n",
       "id                                                         \n",
       "1                  -0.182348                   -1.281540   \n",
       "2                   1.082005                   -1.523763   \n",
       "3                   0.098620                   -0.230005   \n",
       "4                  -1.516943                    1.690080   \n",
       "5                  -0.112106                   -0.491443   \n",
       "\n",
       "    Scaledmembership_years  \n",
       "id                          \n",
       "1                -0.865010  \n",
       "2                -1.215358  \n",
       "3                -1.215358  \n",
       "4                 1.237080  \n",
       "5                -0.865010  "
      ]
     },
     "execution_count": 200,
     "metadata": {},
     "output_type": "execute_result"
    }
   ],
   "source": [
    "df.head()"
   ]
  },
  {
   "cell_type": "code",
   "execution_count": 202,
   "id": "3c70a659-7a65-4831-b827-88fec846384d",
   "metadata": {},
   "outputs": [
    {
     "data": {
      "text/plain": [
       "['../assets/scaler.gz']"
      ]
     },
     "execution_count": 202,
     "metadata": {},
     "output_type": "execute_result"
    }
   ],
   "source": [
    "joblib.dump(scaler, '../assets/scaler.gz')"
   ]
  },
  {
   "cell_type": "markdown",
   "id": "b47336d2-2c18-4f17-b87e-24b22c0eed48",
   "metadata": {},
   "source": [
    "#### Converting Categorical Variables"
   ]
  },
  {
   "cell_type": "code",
   "execution_count": 204,
   "id": "cff53f88-1ab7-4216-b543-d5b04516fa95",
   "metadata": {},
   "outputs": [],
   "source": [
    "df = pd.get_dummies(data=df,columns=['gender','preferred_category'],drop_first=True)"
   ]
  },
  {
   "cell_type": "code",
   "execution_count": 206,
   "id": "af6766c0-dc77-4722-a12a-18a73998ceea",
   "metadata": {},
   "outputs": [
    {
     "data": {
      "text/html": [
       "<div>\n",
       "<style scoped>\n",
       "    .dataframe tbody tr th:only-of-type {\n",
       "        vertical-align: middle;\n",
       "    }\n",
       "\n",
       "    .dataframe tbody tr th {\n",
       "        vertical-align: top;\n",
       "    }\n",
       "\n",
       "    .dataframe thead th {\n",
       "        text-align: right;\n",
       "    }\n",
       "</style>\n",
       "<table border=\"1\" class=\"dataframe\">\n",
       "  <thead>\n",
       "    <tr style=\"text-align: right;\">\n",
       "      <th></th>\n",
       "      <th>Scaledage</th>\n",
       "      <th>Scaledincome</th>\n",
       "      <th>Scaledspending_score</th>\n",
       "      <th>Scaledpurchase_frequency</th>\n",
       "      <th>Scaledlast_purchase_amount</th>\n",
       "      <th>Scaledmembership_years</th>\n",
       "      <th>gender_Male</th>\n",
       "      <th>gender_Other</th>\n",
       "      <th>preferred_category_Electronics</th>\n",
       "      <th>preferred_category_Groceries</th>\n",
       "      <th>preferred_category_Home &amp; Garden</th>\n",
       "      <th>preferred_category_Sports</th>\n",
       "    </tr>\n",
       "    <tr>\n",
       "      <th>id</th>\n",
       "      <th></th>\n",
       "      <th></th>\n",
       "      <th></th>\n",
       "      <th></th>\n",
       "      <th></th>\n",
       "      <th></th>\n",
       "      <th></th>\n",
       "      <th></th>\n",
       "      <th></th>\n",
       "      <th></th>\n",
       "      <th></th>\n",
       "      <th></th>\n",
       "    </tr>\n",
       "  </thead>\n",
       "  <tbody>\n",
       "    <tr>\n",
       "      <th>1</th>\n",
       "      <td>-0.384644</td>\n",
       "      <td>0.316868</td>\n",
       "      <td>1.358468</td>\n",
       "      <td>-0.182348</td>\n",
       "      <td>-1.281540</td>\n",
       "      <td>-0.865010</td>\n",
       "      <td>False</td>\n",
       "      <td>False</td>\n",
       "      <td>False</td>\n",
       "      <td>True</td>\n",
       "      <td>False</td>\n",
       "      <td>False</td>\n",
       "    </tr>\n",
       "    <tr>\n",
       "      <th>2</th>\n",
       "      <td>-1.515362</td>\n",
       "      <td>-0.282016</td>\n",
       "      <td>0.321865</td>\n",
       "      <td>1.082005</td>\n",
       "      <td>-1.523763</td>\n",
       "      <td>-1.215358</td>\n",
       "      <td>False</td>\n",
       "      <td>False</td>\n",
       "      <td>False</td>\n",
       "      <td>False</td>\n",
       "      <td>False</td>\n",
       "      <td>True</td>\n",
       "    </tr>\n",
       "    <tr>\n",
       "      <th>3</th>\n",
       "      <td>1.078639</td>\n",
       "      <td>1.112778</td>\n",
       "      <td>-0.714738</td>\n",
       "      <td>0.098620</td>\n",
       "      <td>-0.230005</td>\n",
       "      <td>-1.215358</td>\n",
       "      <td>False</td>\n",
       "      <td>False</td>\n",
       "      <td>False</td>\n",
       "      <td>False</td>\n",
       "      <td>False</td>\n",
       "      <td>False</td>\n",
       "    </tr>\n",
       "    <tr>\n",
       "      <th>4</th>\n",
       "      <td>-0.251618</td>\n",
       "      <td>-1.210096</td>\n",
       "      <td>0.805613</td>\n",
       "      <td>-1.516943</td>\n",
       "      <td>1.690080</td>\n",
       "      <td>1.237080</td>\n",
       "      <td>False</td>\n",
       "      <td>True</td>\n",
       "      <td>False</td>\n",
       "      <td>False</td>\n",
       "      <td>True</td>\n",
       "      <td>False</td>\n",
       "    </tr>\n",
       "    <tr>\n",
       "      <th>5</th>\n",
       "      <td>1.411203</td>\n",
       "      <td>1.523374</td>\n",
       "      <td>-1.025718</td>\n",
       "      <td>-0.112106</td>\n",
       "      <td>-0.491443</td>\n",
       "      <td>-0.865010</td>\n",
       "      <td>False</td>\n",
       "      <td>False</td>\n",
       "      <td>True</td>\n",
       "      <td>False</td>\n",
       "      <td>False</td>\n",
       "      <td>False</td>\n",
       "    </tr>\n",
       "  </tbody>\n",
       "</table>\n",
       "</div>"
      ],
      "text/plain": [
       "    Scaledage  Scaledincome  Scaledspending_score  Scaledpurchase_frequency  \\\n",
       "id                                                                            \n",
       "1   -0.384644      0.316868              1.358468                 -0.182348   \n",
       "2   -1.515362     -0.282016              0.321865                  1.082005   \n",
       "3    1.078639      1.112778             -0.714738                  0.098620   \n",
       "4   -0.251618     -1.210096              0.805613                 -1.516943   \n",
       "5    1.411203      1.523374             -1.025718                 -0.112106   \n",
       "\n",
       "    Scaledlast_purchase_amount  Scaledmembership_years  gender_Male  \\\n",
       "id                                                                    \n",
       "1                    -1.281540               -0.865010        False   \n",
       "2                    -1.523763               -1.215358        False   \n",
       "3                    -0.230005               -1.215358        False   \n",
       "4                     1.690080                1.237080        False   \n",
       "5                    -0.491443               -0.865010        False   \n",
       "\n",
       "    gender_Other  preferred_category_Electronics  \\\n",
       "id                                                 \n",
       "1          False                           False   \n",
       "2          False                           False   \n",
       "3          False                           False   \n",
       "4           True                           False   \n",
       "5          False                            True   \n",
       "\n",
       "    preferred_category_Groceries  preferred_category_Home & Garden  \\\n",
       "id                                                                   \n",
       "1                           True                             False   \n",
       "2                          False                             False   \n",
       "3                          False                             False   \n",
       "4                          False                              True   \n",
       "5                          False                             False   \n",
       "\n",
       "    preferred_category_Sports  \n",
       "id                             \n",
       "1                       False  \n",
       "2                        True  \n",
       "3                       False  \n",
       "4                       False  \n",
       "5                       False  "
      ]
     },
     "execution_count": 206,
     "metadata": {},
     "output_type": "execute_result"
    }
   ],
   "source": [
    "df.head()"
   ]
  },
  {
   "cell_type": "markdown",
   "id": "ddb64e4a-a373-42b7-a61d-55ef515b9123",
   "metadata": {},
   "source": [
    "### Saving Cleaned Data"
   ]
  },
  {
   "cell_type": "code",
   "execution_count": 208,
   "id": "bf2ea0a9-90e2-4f74-852d-e046139cfc75",
   "metadata": {},
   "outputs": [],
   "source": [
    "df.to_csv('../assets/cleaned_data.csv', index=False)"
   ]
  }
 ],
 "metadata": {
  "kernelspec": {
   "display_name": "Python 3 (ipykernel)",
   "language": "python",
   "name": "python3"
  },
  "language_info": {
   "codemirror_mode": {
    "name": "ipython",
    "version": 3
   },
   "file_extension": ".py",
   "mimetype": "text/x-python",
   "name": "python",
   "nbconvert_exporter": "python",
   "pygments_lexer": "ipython3",
   "version": "3.11.7"
  }
 },
 "nbformat": 4,
 "nbformat_minor": 5
}
